{
 "cells": [
  {
   "cell_type": "code",
   "execution_count": null,
   "id": "b3401b68",
   "metadata": {},
   "outputs": [],
   "source": [
    "#少部分数据\n",
    "comments = [\n",
    "    \"这个遥控器操作起来太复杂了\",\n",
    "    \"方言功能难以理解\",\n",
    "    \"操作复杂，难以上手\",\n",
    "    \"简单易用，方言支持不错\",\n",
    "]\n"
   ]
  },
  {
   "cell_type": "code",
   "execution_count": null,
   "id": "84e9799a",
   "metadata": {},
   "outputs": [],
   "source": [
    "import jieba\n",
    "\n",
    "# 对每条评论进行分词\n",
    "segmented_comments = [jieba.lcut(comment) for comment in comments]\n"
   ]
  },
  {
   "cell_type": "code",
   "execution_count": null,
   "id": "80964527",
   "metadata": {},
   "outputs": [],
   "source": [
    "from collections import Counter\n",
    "\n",
    "# 统计词频\n",
    "all_words = [word for comment in segmented_comments for word in comment]\n",
    "word_counts = Counter(all_words)\n",
    "\n",
    "# 选取高频词语生成词汇表\n",
    "vocab = [\"遥控器\", \"方言\", \"操作\", \"复杂\", \"难\", \"简单\"]\n"
   ]
  },
  {
   "cell_type": "code",
   "execution_count": null,
   "id": "34081f7f",
   "metadata": {},
   "outputs": [],
   "source": [
    "import numpy as np\n",
    "\n",
    "# 初始化共现矩阵\n",
    "N = len(vocab)\n",
    "co_occurrence_matrix = np.zeros((N, N), dtype=int)\n"
   ]
  },
  {
   "cell_type": "code",
   "execution_count": null,
   "id": "cc11b248",
   "metadata": {},
   "outputs": [],
   "source": [
    "# 词汇表词语到索引的映射\n",
    "word_to_index = {word: i for i, word in enumerate(vocab)}\n",
    "\n",
    "# 填充共现矩阵\n",
    "for comment in segmented_comments:\n",
    "    for i in range(len(comment)):\n",
    "        for j in range(i + 1, len(comment)):\n",
    "            if comment[i] in word_to_index and comment[j] in word_to_index:\n",
    "                idx_i = word_to_index[comment[i]]\n",
    "                idx_j = word_to_index[comment[j]]\n",
    "                co_occurrence_matrix[idx_i][idx_j] += 1\n",
    "                co_occurrence_matrix[idx_j][idx_i] += 1\n"
   ]
  },
  {
   "cell_type": "code",
   "execution_count": null,
   "id": "31819697",
   "metadata": {},
   "outputs": [],
   "source": [
    "import matplotlib.pyplot as plt\n",
    "import seaborn as sns\n",
    "\n",
    "# 设置字体以支持中文\n",
    "plt.rcParams['font.sans-serif'] = ['SimHei']\n",
    "\n",
    "# 创建热力图\n",
    "plt.figure(figsize=(8, 6))\n",
    "sns.heatmap(co_occurrence_matrix, annot=True, cmap=\"YlGnBu\", xticklabels=vocab, yticklabels=vocab)\n",
    "\n",
    "# 设置标题和轴标签\n",
    "plt.title\n"
   ]
  }
 ],
 "metadata": {
  "kernelspec": {
   "display_name": "Python (dat)",
   "language": "python",
   "name": "dat"
  },
  "language_info": {
   "codemirror_mode": {
    "name": "ipython",
    "version": 3
   },
   "file_extension": ".py",
   "mimetype": "text/x-python",
   "name": "python",
   "nbconvert_exporter": "python",
   "pygments_lexer": "ipython3",
   "version": "3.11.9"
  }
 },
 "nbformat": 4,
 "nbformat_minor": 5
}
